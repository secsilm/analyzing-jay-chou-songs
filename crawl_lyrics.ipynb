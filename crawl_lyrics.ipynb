{
 "cells": [
  {
   "cell_type": "code",
   "execution_count": 198,
   "metadata": {},
   "outputs": [],
   "source": [
    "import requests\n",
    "from bs4 import BeautifulSoup\n",
    "import pandas as pd\n",
    "import numpy as np\n",
    "import re\n",
    "import itertools\n",
    "from pathlib import Path\n",
    "import json\n",
    "import collections"
   ]
  },
  {
   "cell_type": "code",
   "execution_count": 172,
   "metadata": {},
   "outputs": [],
   "source": [
    "def parse_lyric(link):\n",
    "    r = requests.get(link, proxies=proxy)\n",
    "    soup = BeautifulSoup(r.text, 'lxml')\n",
    "    lyric_area = soup.find('dd', id='fsZx3').strings\n",
    "    lyric = []\n",
    "    for idx, item in enumerate(lyric_area):\n",
    "        if not (item.startswith('[00') or item.startswith('[ti:')):\n",
    "            lyric.append(item)\n",
    "        else:\n",
    "            break\n",
    "    lyric = [item.replace('\\u3000', ' ').strip() for item in lyric]\n",
    "    return lyric"
   ]
  },
  {
   "cell_type": "code",
   "execution_count": 177,
   "metadata": {},
   "outputs": [],
   "source": [
    "df = pd.read_csv('all_jay_songs.csv')\n",
    "albums = df.TAG_album.unique()"
   ]
  },
  {
   "cell_type": "code",
   "execution_count": 178,
   "metadata": {},
   "outputs": [],
   "source": [
    "albums = np.append(albums, ['周杰伦的床边故事', '杰伦(Jay)', '11月的萧邦', '我很忙(ON THE RUN)', '寻找周杰伦', '惊叹号', '范特西(Fantasy)'])"
   ]
  },
  {
   "cell_type": "code",
   "execution_count": 179,
   "metadata": {},
   "outputs": [
    {
     "data": {
      "text/plain": [
       "array(['Jay', '七里香', '不能说的秘密', '依然范特西', '八度空间', '十一月的萧邦', '十二新作', '叶惠美',\n",
       "       '哎呦，不错哦', '寻找周杰伦EP', '惊叹号！', '我很忙', '范特西', '跨时代', '霍元甲EP', '魔杰座',\n",
       "       '黄金甲EP', '周杰伦的床边故事', '杰伦(Jay)', '11月的萧邦', '我很忙(ON THE RUN)',\n",
       "       '寻找周杰伦', '惊叹号', '范特西(Fantasy)'], dtype=object)"
      ]
     },
     "execution_count": 179,
     "metadata": {},
     "output_type": "execute_result"
    }
   ],
   "source": [
    "albums"
   ]
  },
  {
   "cell_type": "code",
   "execution_count": 2,
   "metadata": {},
   "outputs": [],
   "source": [
    "url = 'http://mojim.com/cnh100951.htm'"
   ]
  },
  {
   "cell_type": "code",
   "execution_count": 3,
   "metadata": {},
   "outputs": [],
   "source": [
    "proxy = {'http': 'http://127.0.0.1:1080', 'https': 'http://127.0.0.1:1080'}"
   ]
  },
  {
   "cell_type": "code",
   "execution_count": 4,
   "metadata": {},
   "outputs": [],
   "source": [
    "r = requests.get(url, proxies=proxy)"
   ]
  },
  {
   "cell_type": "code",
   "execution_count": 5,
   "metadata": {},
   "outputs": [],
   "source": [
    "soup = BeautifulSoup(r.text, 'lxml')"
   ]
  },
  {
   "cell_type": "code",
   "execution_count": 204,
   "metadata": {},
   "outputs": [],
   "source": [
    "albums_info = collections.defaultdict(dict)\n",
    "for dd in soup.find_all('dd', class_=['hb3', 'hb2']):\n",
    "    album = dd.find('span', class_='hc1').text.strip()\n",
    "    if album in albums:\n",
    "        hc2 = dd.find('span', class_='hc2')\n",
    "        release_date = ''.join(re.findall('\\d+', hc2.text.strip()))\n",
    "        try:\n",
    "            distributor = hc2.find('font').text\n",
    "        except Exception as e:\n",
    "            distributor = None\n",
    "        albums_info[album]['date'] = release_date\n",
    "        albums_info[album]['distributor'] = distributor\n",
    "        \n",
    "        hc34 = dd.find_all('span', class_=['hc3', 'hc4'])\n",
    "        for span in hc34:\n",
    "            for a in span.find_all('a', href=True, title=True):\n",
    "                link = 'http://mojim.com' + a['href']\n",
    "                song_name = a.text\n",
    "                print(f'Processing {song_name} in {album} ...')\n",
    "                try:\n",
    "                    lyric = parse_lyric(link)\n",
    "                except Exception as e:\n",
    "                    lyric = ''\n",
    "                    print(e)\n",
    "                path = Path('Lyrics').joinpath(album)\n",
    "                path.mkdir(parents=True, exist_ok=True)\n",
    "                path.joinpath(song_name + '.txt').write_text('\\n'.join(lyric), encoding='utf8')\n",
    "with open('albums_info.json', 'w', encoding='utf8') as f:\n",
    "    json.dump(albums_info, f, ensure_ascii=False)\n",
    "#         print(album, release_date, language, distributor)"
   ]
  },
  {
   "cell_type": "code",
   "execution_count": 176,
   "metadata": {},
   "outputs": [
    {
     "data": {
      "text/plain": [
       "['作词：方文山',\n",
       " '作曲：周杰伦',\n",
       " '旌旗如虹 山堆叠如峰',\n",
       " '这军队蜿蜒如龙 杀气如风 血色如酒红',\n",
       " '将军我傲气如冲 神色悍如凶',\n",
       " '黄金甲如忠 铁骑剽悍我行如轰',\n",
       " '景色如冬 萧瑟如风 攻势如弓 魂断犹如梦中',\n",
       " '一静一动 如松 千年不变 如空 如空 如空',\n",
       " '血染盔甲 我挥泪杀',\n",
       " '满城菊花 谁的天下',\n",
       " '宫廷之上 狼烟风沙',\n",
       " '生死不过 一刀 的疤',\n",
       " '仇恨绵延如火 愁入眉头如锁',\n",
       " '情感漂泊漂泊 漂泊一世如我',\n",
       " '今生繁华如昨 兵戎相见如破',\n",
       " '千军万马万马 万马奔腾那骨头相残如错',\n",
       " '陈年战事如酒 成败转眼如秋',\n",
       " '遍地烽火烽火',\n",
       " '烽火回忆如锈  (那烽火回忆如锈)',\n",
       " '杀戮过重如否  (那杀戮过重如否)',\n",
       " '更多更详尽歌词 在',\n",
       " '※ Mojim.com 魔镜歌词网',\n",
       " '烽火回忆如锈  (那烽火回忆如锈)',\n",
       " '皇室血脉如断流 (皇室血脉如断流)',\n",
       " '血染盔甲 我挥泪杀',\n",
       " '满城菊花 谁的天下',\n",
       " '宫廷之上 狼烟风沙',\n",
       " '生死不过 一刀 的疤',\n",
       " '血染盔甲 我挥泪杀',\n",
       " '满城菊花 谁的天下',\n",
       " '宫廷之上 狼烟风沙',\n",
       " '生死不过 一刀 的疤',\n",
       " '盔甲 我挥泪杀',\n",
       " '满城菊花 谁的天下',\n",
       " '宫廷之上 狼烟风沙',\n",
       " '生死不过 一刀的疤',\n",
       " '血染盔甲 我挥泪杀',\n",
       " '横刀立马 看谁倒下',\n",
       " '爱恨对话 历史留下',\n",
       " '谁在乱箭 之中潇洒']"
      ]
     },
     "execution_count": 176,
     "metadata": {},
     "output_type": "execute_result"
    }
   ],
   "source": [
    "parse_lyric('http://mojim.com/cny100951x20x1.htm')"
   ]
  },
  {
   "cell_type": "code",
   "execution_count": 109,
   "metadata": {},
   "outputs": [],
   "source": [
    "rr_soup = BeautifulSoup(rr.text, 'lxml')"
   ]
  }
 ],
 "metadata": {
  "kernelspec": {
   "display_name": "Python 3",
   "language": "python",
   "name": "python3"
  },
  "language_info": {
   "codemirror_mode": {
    "name": "ipython",
    "version": 3
   },
   "file_extension": ".py",
   "mimetype": "text/x-python",
   "name": "python",
   "nbconvert_exporter": "python",
   "pygments_lexer": "ipython3",
   "version": "3.6.4"
  }
 },
 "nbformat": 4,
 "nbformat_minor": 2
}
