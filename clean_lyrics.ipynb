{
 "cells": [
  {
   "cell_type": "code",
   "execution_count": 1,
   "metadata": {},
   "outputs": [],
   "source": [
    "from pathlib import Path\n",
    "import numpy as np\n",
    "import pandas as pd"
   ]
  },
  {
   "cell_type": "code",
   "execution_count": 3,
   "metadata": {},
   "outputs": [],
   "source": [
    "test_path = Path(r'D:\\MasterFiles\\MachineLearning\\anayzing-jay-chou-songs\\Lyrics\\哎呦，不错哦\\一口气全念对.txt')"
   ]
  },
  {
   "cell_type": "code",
   "execution_count": 6,
   "metadata": {},
   "outputs": [],
   "source": [
    "test_text = test_path.read_text(encoding='utf8')"
   ]
  },
  {
   "cell_type": "code",
   "execution_count": 8,
   "metadata": {},
   "outputs": [
    {
     "data": {
      "text/plain": [
       "['作词：方文山',\n",
       " '作曲：周杰伦',\n",
       " '编曲：周杰伦',\n",
       " '这这谁 欢迎你来派对 我的世界',\n",
       " '在宽敞的大街 飙音乐',\n",
       " '再唸一段碎嘴 过来挑战就对',\n",
       " '鸣枪起跑预备',\n",
       " '就咪让咪压咪力咪 喘咪一咪口咪气咪',\n",
       " '给咪它咪机咪会咪 跟咪著咪音咪乐咪',\n",
       " '将咪爱咪写咪成咪 一咪段咪过咪去咪',\n",
       " '只咪留咪下咪对咪的咪记咪忆 嘿',\n",
       " '对对对对了 一口气全唸对 对对对对了 没事就动动嘴 动动动动嘴',\n",
       " '动动嘴 动动嘴 拍子要唸准确 才会抓到感觉',\n",
       " '你的香水 我的心跳 搞得我很难思考',\n",
       " '窄裙线条 对我撒娇 抚媚嘴角猜不到',\n",
       " '你抹香水 我摸心跳 性感就快要破表',\n",
       " '扭水蛇腰 不吵不闹 爱上你只需一秒',\n",
       " '更多更详尽歌词 在',\n",
       " '※ Mojim.com 魔镜歌词网',\n",
       " '这这谁 欢迎你来派对 我的世界',\n",
       " '这里不用辛苦 戴尾戒',\n",
       " '没有嫉妒防备 只有开心纯粹',\n",
       " '以及屌的音乐',\n",
       " '就咪让咪压咪力咪 喘咪一咪口咪气咪',\n",
       " '给咪它咪机咪会咪 跟咪著咪音咪乐咪',\n",
       " '将咪爱咪写咪成咪 一咪段咪过咪去咪',\n",
       " '只咪留咪下咪对咪的咪记咪忆 嘿',\n",
       " '对对对对了 一口气全唸对 对对对对了 没事就动动嘴 动动动动嘴',\n",
       " '动动嘴 动动嘴 拍子要唸准确 才会抓到感觉',\n",
       " '你的香水 我的心跳 搞得我很难思考',\n",
       " '窄裙线条 对我撒娇 抚媚嘴角猜不到',\n",
       " '你抹香水 我摸心跳 性感就快要破表',\n",
       " '扭水蛇腰 不吵不闹 爱上你只需一秒']"
      ]
     },
     "execution_count": 8,
     "metadata": {},
     "output_type": "execute_result"
    }
   ],
   "source": [
    "test_text = test_text.split('\\n')\n",
    "test_text"
   ]
  },
  {
   "cell_type": "code",
   "execution_count": 9,
   "metadata": {},
   "outputs": [
    {
     "data": {
      "text/plain": [
       "['作词：方文山',\n",
       " '作曲：周杰伦',\n",
       " '编曲：周杰伦',\n",
       " '这这谁 欢迎你来派对 我的世界',\n",
       " '在宽敞的大街 飙音乐',\n",
       " '再唸一段碎嘴 过来挑战就对',\n",
       " '鸣枪起跑预备',\n",
       " '就咪让咪压咪力咪 喘咪一咪口咪气咪',\n",
       " '给咪它咪机咪会咪 跟咪著咪音咪乐咪',\n",
       " '将咪爱咪写咪成咪 一咪段咪过咪去咪',\n",
       " '只咪留咪下咪对咪的咪记咪忆 嘿',\n",
       " '对对对对了 一口气全唸对 对对对对了 没事就动动嘴 动动动动嘴',\n",
       " '动动嘴 动动嘴 拍子要唸准确 才会抓到感觉',\n",
       " '你的香水 我的心跳 搞得我很难思考',\n",
       " '窄裙线条 对我撒娇 抚媚嘴角猜不到',\n",
       " '你抹香水 我摸心跳 性感就快要破表',\n",
       " '扭水蛇腰 不吵不闹 爱上你只需一秒',\n",
       " '这这谁 欢迎你来派对 我的世界',\n",
       " '这里不用辛苦 戴尾戒',\n",
       " '没有嫉妒防备 只有开心纯粹',\n",
       " '以及屌的音乐',\n",
       " '就咪让咪压咪力咪 喘咪一咪口咪气咪',\n",
       " '给咪它咪机咪会咪 跟咪著咪音咪乐咪',\n",
       " '将咪爱咪写咪成咪 一咪段咪过咪去咪',\n",
       " '只咪留咪下咪对咪的咪记咪忆 嘿',\n",
       " '对对对对了 一口气全唸对 对对对对了 没事就动动嘴 动动动动嘴',\n",
       " '动动嘴 动动嘴 拍子要唸准确 才会抓到感觉',\n",
       " '你的香水 我的心跳 搞得我很难思考',\n",
       " '窄裙线条 对我撒娇 抚媚嘴角猜不到',\n",
       " '你抹香水 我摸心跳 性感就快要破表',\n",
       " '扭水蛇腰 不吵不闹 爱上你只需一秒']"
      ]
     },
     "execution_count": 9,
     "metadata": {},
     "output_type": "execute_result"
    }
   ],
   "source": [
    "test_text = [item for item in test_text if not item in ['更多更详尽歌词 在', '※ Mojim.com 魔镜歌词网']]\n",
    "test_text"
   ]
  },
  {
   "cell_type": "code",
   "execution_count": 10,
   "metadata": {},
   "outputs": [],
   "source": [
    "def find(k, arr):\n",
    "    '''在 s 中找 k，找到则返回，没找到返回 None'''\n",
    "    for line in arr:\n",
    "        if line.startswith(k):\n",
    "            return line.split('：')[1]\n",
    "    else:\n",
    "        return None"
   ]
  },
  {
   "cell_type": "code",
   "execution_count": 14,
   "metadata": {},
   "outputs": [],
   "source": [
    "find('李亚军', test_text)"
   ]
  },
  {
   "cell_type": "code",
   "execution_count": 34,
   "metadata": {},
   "outputs": [
    {
     "data": {
      "text/html": [
       "<div>\n",
       "<style scoped>\n",
       "    .dataframe tbody tr th:only-of-type {\n",
       "        vertical-align: middle;\n",
       "    }\n",
       "\n",
       "    .dataframe tbody tr th {\n",
       "        vertical-align: top;\n",
       "    }\n",
       "\n",
       "    .dataframe thead th {\n",
       "        text-align: right;\n",
       "    }\n",
       "</style>\n",
       "<table border=\"1\" class=\"dataframe\">\n",
       "  <thead>\n",
       "    <tr style=\"text-align: right;\">\n",
       "      <th></th>\n",
       "      <th>song</th>\n",
       "      <th>lyricist</th>\n",
       "      <th>composer</th>\n",
       "      <th>arranger</th>\n",
       "    </tr>\n",
       "  </thead>\n",
       "  <tbody>\n",
       "  </tbody>\n",
       "</table>\n",
       "</div>"
      ],
      "text/plain": [
       "Empty DataFrame\n",
       "Columns: [song, lyricist, composer, arranger]\n",
       "Index: []"
      ]
     },
     "execution_count": 34,
     "metadata": {},
     "output_type": "execute_result"
    }
   ],
   "source": [
    "df = pd.DataFrame(columns=['song', 'lyricist', 'composer', 'arranger'])\n",
    "df"
   ]
  },
  {
   "cell_type": "code",
   "execution_count": 35,
   "metadata": {},
   "outputs": [],
   "source": [
    "for file in Path('Lyrics/').glob('**/*.txt'):\n",
    "    d = {}\n",
    "    text = file.read_text(encoding='utf8').split('\\n')\n",
    "    text = [line for line in text if not line in ['更多更详尽歌词 在', '※ Mojim.com 魔镜歌词网']]\n",
    "    d['song'] = file.stem\n",
    "    d['lyricist'] = find('作词', text)\n",
    "    d['composer'] = find('作曲', text)\n",
    "    d['arranger'] = find('编曲', text)\n",
    "    df = df.append(d, ignore_index=True)\n",
    "    file.write_text('\\n'.join(text), encoding='utf8')"
   ]
  },
  {
   "cell_type": "code",
   "execution_count": 37,
   "metadata": {},
   "outputs": [],
   "source": [
    "df.to_csv('song_info.csv', index=False)"
   ]
  },
  {
   "cell_type": "code",
   "execution_count": null,
   "metadata": {},
   "outputs": [],
   "source": []
  }
 ],
 "metadata": {
  "kernelspec": {
   "display_name": "Python 3",
   "language": "python",
   "name": "python3"
  },
  "language_info": {
   "codemirror_mode": {
    "name": "ipython",
    "version": 3
   },
   "file_extension": ".py",
   "mimetype": "text/x-python",
   "name": "python",
   "nbconvert_exporter": "python",
   "pygments_lexer": "ipython3",
   "version": "3.6.4"
  }
 },
 "nbformat": 4,
 "nbformat_minor": 2
}
