{
 "cells": [
  {
   "cell_type": "code",
   "execution_count": 1,
   "metadata": {},
   "outputs": [],
   "source": [
    "import numpy as np\n",
    "import pandas as pd\n",
    "import tensorflow as tf\n",
    "import tensorflow_hub as hub\n",
    "import matplotlib.pyplot as plt\n",
    "import seaborn as sns\n",
    "import jieba\n",
    "from sklearn.decomposition import PCA\n",
    "from sklearn.manifold import TSNE\n",
    "from sklearn.cluster import KMeans, SpectralClustering\n",
    "%matplotlib inline"
   ]
  },
  {
   "cell_type": "code",
   "execution_count": 2,
   "metadata": {},
   "outputs": [],
   "source": [
    "plt.rcParams['figure.figsize'] = (20, 15)"
   ]
  },
  {
   "cell_type": "markdown",
   "metadata": {},
   "source": [
    "## 读取数据"
   ]
  },
  {
   "cell_type": "code",
   "execution_count": 3,
   "metadata": {},
   "outputs": [
    {
     "data": {
      "text/html": [
       "<div>\n",
       "<table border=\"1\" class=\"dataframe\">\n",
       "  <thead>\n",
       "    <tr style=\"text-align: right;\">\n",
       "      <th></th>\n",
       "      <th>attached_pic</th>\n",
       "      <th>album</th>\n",
       "      <th>artist</th>\n",
       "      <th>avg_frame_rate</th>\n",
       "      <th>bit_rate</th>\n",
       "      <th>bits_per_raw_sample</th>\n",
       "      <th>channel_layout</th>\n",
       "      <th>channels</th>\n",
       "      <th>chroma_location</th>\n",
       "      <th>codec_long_name</th>\n",
       "      <th>...</th>\n",
       "      <th>start_time</th>\n",
       "      <th>time_base</th>\n",
       "      <th>width</th>\n",
       "      <th>lyricist</th>\n",
       "      <th>composer</th>\n",
       "      <th>lyric</th>\n",
       "      <th>arranger</th>\n",
       "      <th>release_date</th>\n",
       "      <th>distributor</th>\n",
       "      <th>lyric_len</th>\n",
       "    </tr>\n",
       "    <tr>\n",
       "      <th>song</th>\n",
       "      <th></th>\n",
       "      <th></th>\n",
       "      <th></th>\n",
       "      <th></th>\n",
       "      <th></th>\n",
       "      <th></th>\n",
       "      <th></th>\n",
       "      <th></th>\n",
       "      <th></th>\n",
       "      <th></th>\n",
       "      <th></th>\n",
       "      <th></th>\n",
       "      <th></th>\n",
       "      <th></th>\n",
       "      <th></th>\n",
       "      <th></th>\n",
       "      <th></th>\n",
       "      <th></th>\n",
       "      <th></th>\n",
       "      <th></th>\n",
       "      <th></th>\n",
       "    </tr>\n",
       "  </thead>\n",
       "  <tbody>\n",
       "    <tr>\n",
       "      <th>可爱女人</th>\n",
       "      <td>1</td>\n",
       "      <td>Jay</td>\n",
       "      <td>周杰伦</td>\n",
       "      <td>0/0</td>\n",
       "      <td>321289</td>\n",
       "      <td>8.0</td>\n",
       "      <td>stereo</td>\n",
       "      <td>2</td>\n",
       "      <td>center</td>\n",
       "      <td>Motion JPEG</td>\n",
       "      <td>...</td>\n",
       "      <td>0.025056</td>\n",
       "      <td>1/90000</td>\n",
       "      <td>445.0</td>\n",
       "      <td>徐若瑄</td>\n",
       "      <td>周杰伦</td>\n",
       "      <td>作词：徐若瑄\\n\\n作曲：周杰伦\\n\\n编曲：周杰伦\\n\\n想要有直升机 想要和妳飞到宇宙去...</td>\n",
       "      <td>周杰伦</td>\n",
       "      <td>2000-11-06</td>\n",
       "      <td>阿尔发音乐</td>\n",
       "      <td>833</td>\n",
       "    </tr>\n",
       "    <tr>\n",
       "      <th>完美主义</th>\n",
       "      <td>1</td>\n",
       "      <td>Jay</td>\n",
       "      <td>周杰伦</td>\n",
       "      <td>0/0</td>\n",
       "      <td>321260</td>\n",
       "      <td>8.0</td>\n",
       "      <td>stereo</td>\n",
       "      <td>2</td>\n",
       "      <td>center</td>\n",
       "      <td>Motion JPEG</td>\n",
       "      <td>...</td>\n",
       "      <td>0.025056</td>\n",
       "      <td>1/90000</td>\n",
       "      <td>445.0</td>\n",
       "      <td>方文山</td>\n",
       "      <td>周杰伦</td>\n",
       "      <td>作词：方文山\\n\\n作曲：周杰伦\\n\\n编曲：洪敬尧\\n\\n如果说怀疑 可以造句 如果说分离...</td>\n",
       "      <td>洪敬尧</td>\n",
       "      <td>2000-11-06</td>\n",
       "      <td>阿尔发音乐</td>\n",
       "      <td>552</td>\n",
       "    </tr>\n",
       "  </tbody>\n",
       "</table>\n",
       "<p>2 rows × 52 columns</p>\n",
       "</div>"
      ],
      "text/plain": [
       "      attached_pic album artist avg_frame_rate  bit_rate  bits_per_raw_sample  \\\n",
       "song                                                                            \n",
       "可爱女人             1   Jay    周杰伦            0/0    321289                  8.0   \n",
       "完美主义             1   Jay    周杰伦            0/0    321260                  8.0   \n",
       "\n",
       "     channel_layout  channels chroma_location codec_long_name    ...     \\\n",
       "song                                                             ...      \n",
       "可爱女人         stereo         2          center     Motion JPEG    ...      \n",
       "完美主义         stereo         2          center     Motion JPEG    ...      \n",
       "\n",
       "     start_time time_base  width lyricist composer  \\\n",
       "song                                                 \n",
       "可爱女人   0.025056   1/90000  445.0      徐若瑄      周杰伦   \n",
       "完美主义   0.025056   1/90000  445.0      方文山      周杰伦   \n",
       "\n",
       "                                                  lyric  arranger  \\\n",
       "song                                                                \n",
       "可爱女人  作词：徐若瑄\\n\\n作曲：周杰伦\\n\\n编曲：周杰伦\\n\\n想要有直升机 想要和妳飞到宇宙去...       周杰伦   \n",
       "完美主义  作词：方文山\\n\\n作曲：周杰伦\\n\\n编曲：洪敬尧\\n\\n如果说怀疑 可以造句 如果说分离...       洪敬尧   \n",
       "\n",
       "     release_date distributor lyric_len  \n",
       "song                                     \n",
       "可爱女人   2000-11-06       阿尔发音乐       833  \n",
       "完美主义   2000-11-06       阿尔发音乐       552  \n",
       "\n",
       "[2 rows x 52 columns]"
      ]
     },
     "execution_count": 3,
     "metadata": {},
     "output_type": "execute_result"
    }
   ],
   "source": [
    "songs = pd.read_csv('all_songs_info.csv', index_col='song')\n",
    "songs.head(2)"
   ]
  },
  {
   "cell_type": "code",
   "execution_count": 4,
   "metadata": {},
   "outputs": [],
   "source": [
    "def cut_lyric(lyric):\n",
    "    if lyric is not np.nan:\n",
    "        words = jieba.cut(lyric)\n",
    "        words = [word for word in words if word not in ['\\n', '\\t', ' ']]\n",
    "        words = ' '.join(words)\n",
    "        return words"
   ]
  },
  {
   "cell_type": "code",
   "execution_count": 5,
   "metadata": {},
   "outputs": [
    {
     "name": "stderr",
     "output_type": "stream",
     "text": [
      "Building prefix dict from the default dictionary ...\n",
      "Loading model from cache /tmp/jieba.cache\n",
      "Loading model cost 0.948 seconds.\n",
      "Prefix dict has been built succesfully.\n"
     ]
    }
   ],
   "source": [
    "cut_lyrics = songs.lyric.apply(cut_lyric)"
   ]
  },
  {
   "cell_type": "code",
   "execution_count": 6,
   "metadata": {},
   "outputs": [
    {
     "data": {
      "text/plain": [
       "180"
      ]
     },
     "execution_count": 6,
     "metadata": {},
     "output_type": "execute_result"
    }
   ],
   "source": [
    "len(cut_lyrics)"
   ]
  },
  {
   "cell_type": "code",
   "execution_count": 7,
   "metadata": {},
   "outputs": [
    {
     "data": {
      "text/plain": [
       "26"
      ]
     },
     "execution_count": 7,
     "metadata": {},
     "output_type": "execute_result"
    }
   ],
   "source": [
    "cut_lyrics.isnull().sum()"
   ]
  },
  {
   "cell_type": "code",
   "execution_count": 8,
   "metadata": {},
   "outputs": [],
   "source": [
    "cut_lyrics.dropna(inplace=True)"
   ]
  },
  {
   "cell_type": "code",
   "execution_count": 9,
   "metadata": {},
   "outputs": [
    {
     "data": {
      "text/plain": [
       "(154,)"
      ]
     },
     "execution_count": 9,
     "metadata": {},
     "output_type": "execute_result"
    }
   ],
   "source": [
    "cut_lyrics.shape"
   ]
  },
  {
   "cell_type": "code",
   "execution_count": 10,
   "metadata": {},
   "outputs": [
    {
     "name": "stdout",
     "output_type": "stream",
     "text": [
      "INFO:tensorflow:Using /tmp/tfhub_modules to cache modules.\n",
      "INFO:tensorflow:Initialize variable module/embeddings/part_0:0 from checkpoint b'/tmp/tfhub_modules/0483635b6c375d7fb6c7dc388b12a5ae3fa2470e/variables/variables' with embeddings\n"
     ]
    }
   ],
   "source": [
    "embed = hub.Module('https://tfhub.dev/google/nnlm-zh-dim50/1')"
   ]
  },
  {
   "cell_type": "code",
   "execution_count": 11,
   "metadata": {},
   "outputs": [],
   "source": [
    "sess = tf.InteractiveSession()"
   ]
  },
  {
   "cell_type": "code",
   "execution_count": 12,
   "metadata": {},
   "outputs": [],
   "source": [
    "songnames = cut_lyrics.index.tolist()"
   ]
  },
  {
   "cell_type": "code",
   "execution_count": 13,
   "metadata": {},
   "outputs": [],
   "source": [
    "words = cut_lyrics.tolist()"
   ]
  },
  {
   "cell_type": "code",
   "execution_count": 14,
   "metadata": {},
   "outputs": [],
   "source": [
    "embeddings = embed(words)"
   ]
  },
  {
   "cell_type": "code",
   "execution_count": 15,
   "metadata": {},
   "outputs": [
    {
     "data": {
      "text/plain": [
       "[None, None]"
      ]
     },
     "execution_count": 15,
     "metadata": {},
     "output_type": "execute_result"
    }
   ],
   "source": [
    "sess.run([tf.global_variables_initializer(), tf.tables_initializer()])"
   ]
  },
  {
   "cell_type": "code",
   "execution_count": 16,
   "metadata": {},
   "outputs": [],
   "source": [
    "embeddings = embeddings.eval()"
   ]
  },
  {
   "cell_type": "code",
   "execution_count": 17,
   "metadata": {},
   "outputs": [
    {
     "data": {
      "text/plain": [
       "(154, 50)"
      ]
     },
     "execution_count": 17,
     "metadata": {},
     "output_type": "execute_result"
    }
   ],
   "source": [
    "embeddings.shape"
   ]
  },
  {
   "cell_type": "markdown",
   "metadata": {},
   "source": [
    "## 未聚类之前的分布"
   ]
  },
  {
   "cell_type": "code",
   "execution_count": 18,
   "metadata": {},
   "outputs": [],
   "source": [
    "pca = PCA(n_components=2)"
   ]
  },
  {
   "cell_type": "code",
   "execution_count": null,
   "metadata": {},
   "outputs": [],
   "source": [
    "embeddings_2d_pca = pca.fit_transform(embeddings)"
   ]
  }
 ],
 "metadata": {
  "kernelspec": {
   "display_name": "Python [default]",
   "language": "python",
   "name": "python3"
  },
  "language_info": {
   "codemirror_mode": {
    "name": "ipython",
    "version": 3
   },
   "file_extension": ".py",
   "mimetype": "text/x-python",
   "name": "python",
   "nbconvert_exporter": "python",
   "pygments_lexer": "ipython3",
   "version": "3.5.2"
  }
 },
 "nbformat": 4,
 "nbformat_minor": 2
}
